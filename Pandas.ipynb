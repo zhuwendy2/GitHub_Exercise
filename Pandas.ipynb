{
 "cells": [
  {
   "cell_type": "markdown",
   "metadata": {},
   "source": [
    "# Data Ingestion: Tabular Data using Pandas\n",
    "\n",
    "**What is Pandas?**\n",
    "\n",
    "Pandas is an open source Python package that allow us to load tabular data directly into our Python environment. This notebook will briefly introduce: 1)The fundamental data structures in pandas and basic operations that can be performed, 2) how to load tabular data into a pandas DataFrame and 3) using pandas to load data from Excel files.\n",
    "\n",
    "The outline for this notebook is as follows:\n",
    "\n",
    "1. <a href='#1.-Series'>Introduction to Series</a>\n",
    "2. <a href='#2.-DataFrames'>Introduction to DataFrames</a>\n",
    "3. <a href='#3.-Loading-Tabular-Data'>Loading Tabular Data (CSV)</a>\n",
    "4. <a href='#4.-Loading-Excel-files'>Loading Excel Files</a>\n",
    "5. <a href='#5.-DataFrame-Methods'>DataFrame Methods</a>\n",
    "\n",
    "**The first step is to import the pandas library**"
   ]
  },
  {
   "cell_type": "code",
   "execution_count": 1,
   "metadata": {},
   "outputs": [],
   "source": [
    "#import libraries\n",
    "import pandas as pd #pd is the widely adopted alias for pandas"
   ]
  },
  {
   "cell_type": "markdown",
   "metadata": {},
   "source": [
    "## 1. Series\n",
    "A series is one-dimensional (array-like) data structure that contains a sequence of homogenous values. Each value in the sequence has an associated label, called an index.\n",
    "\n",
    "#### Define a Series with Default Indices\n",
    "You can create a series using a list or numpy array."
   ]
  },
  {
   "cell_type": "code",
   "execution_count": 2,
   "metadata": {},
   "outputs": [
    {
     "data": {
      "text/plain": [
       "0    97.0\n",
       "1    88.0\n",
       "2    75.0\n",
       "3    81.0\n",
       "4    92.0\n",
       "dtype: float64"
      ]
     },
     "execution_count": 2,
     "metadata": {},
     "output_type": "execute_result"
    }
   ],
   "source": [
    "#create a series\n",
    "grades = [97, 88, 75, 81, 92.0]\n",
    "result = pd.Series(grades)\n",
    "result\n"
   ]
  },
  {
   "cell_type": "markdown",
   "metadata": {},
   "source": [
    "#### Define a Series with Custom Indices"
   ]
  },
  {
   "cell_type": "code",
   "execution_count": 3,
   "metadata": {},
   "outputs": [
    {
     "data": {
      "text/plain": [
       "Jane      97\n",
       "John      88\n",
       "George    75\n",
       "Judy      81\n",
       "Elroy     92\n",
       "dtype: int64"
      ]
     },
     "execution_count": 3,
     "metadata": {},
     "output_type": "execute_result"
    }
   ],
   "source": [
    "grades = [97, 88, 75, 81, 92]\n",
    "names  = ['Jane', 'John', 'George', 'Judy', 'Elroy']\n",
    "result = pd.Series(grades, index=names)\n",
    "result"
   ]
  },
  {
   "cell_type": "code",
   "execution_count": 4,
   "metadata": {},
   "outputs": [
    {
     "data": {
      "text/plain": [
       "array([97, 88, 75, 81, 92])"
      ]
     },
     "execution_count": 4,
     "metadata": {},
     "output_type": "execute_result"
    }
   ],
   "source": [
    "#display the values in the series\n",
    "result.values"
   ]
  },
  {
   "cell_type": "code",
   "execution_count": 5,
   "metadata": {},
   "outputs": [
    {
     "data": {
      "text/plain": [
       "Index(['Jane', 'John', 'George', 'Judy', 'Elroy'], dtype='object')"
      ]
     },
     "execution_count": 5,
     "metadata": {},
     "output_type": "execute_result"
    }
   ],
   "source": [
    "#display the index in the series\n",
    "result.index"
   ]
  },
  {
   "cell_type": "markdown",
   "metadata": {},
   "source": [
    "#### Accessing the Values in a Series\n",
    "We can access a value using its index. Here is an example:"
   ]
  },
  {
   "cell_type": "code",
   "execution_count": 6,
   "metadata": {},
   "outputs": [
    {
     "data": {
      "text/plain": [
       "88"
      ]
     },
     "execution_count": 6,
     "metadata": {},
     "output_type": "execute_result"
    }
   ],
   "source": [
    "result['John']"
   ]
  },
  {
   "cell_type": "markdown",
   "metadata": {},
   "source": [
    "#### Changing the Values in a Series\n",
    "We can update a value using the index, and the changes are performed in-place. The example below will reduce Elroy's grade by 2 points."
   ]
  },
  {
   "cell_type": "code",
   "execution_count": 7,
   "metadata": {},
   "outputs": [
    {
     "data": {
      "text/plain": [
       "Jane      97\n",
       "John      88\n",
       "George    75\n",
       "Judy      81\n",
       "Elroy     90\n",
       "dtype: int64"
      ]
     },
     "execution_count": 7,
     "metadata": {},
     "output_type": "execute_result"
    }
   ],
   "source": [
    "#update the corresponding value using the index\n",
    "result['Elroy'] -= 2\n",
    "result"
   ]
  },
  {
   "cell_type": "markdown",
   "metadata": {},
   "source": [
    "#### Alternative Way to Create a Series\n",
    "We can use a dictionary which contains key/value pairs as an alternative way to create a series. Here is an example that creates a dictionary with the names of students and initialized it with their respective grades. The dictionary is then used to create the series."
   ]
  },
  {
   "cell_type": "code",
   "execution_count": 8,
   "metadata": {},
   "outputs": [
    {
     "data": {
      "text/plain": [
       "jane    97\n",
       "john    89\n",
       "mary    86\n",
       "dtype: int64"
      ]
     },
     "execution_count": 8,
     "metadata": {},
     "output_type": "execute_result"
    }
   ],
   "source": [
    "#Alternative Series definition\n",
    "student_dict = {'jane': 97, 'john': 89, 'mary': 86}\n",
    "\n",
    "result = pd.Series(student_dict)\n",
    "result"
   ]
  },
  {
   "cell_type": "code",
   "execution_count": null,
   "metadata": {},
   "outputs": [],
   "source": []
  },
  {
   "cell_type": "markdown",
   "metadata": {},
   "source": [
    "#### Other useful Methods\n",
    "Series provides many useful methods and the complete list can be found [at the following link](https://pandas.pydata.org/docs/reference/api/pandas.Series.html). However the most common methods are\n",
    "\n",
    "- count()\n",
    "- min()\n",
    "- max()\n",
    "- mean()\n",
    "- std()\n",
    "- describe()\n",
    "\n",
    "`Practice:`I recommend that you use the data from the series to experiment with the functions above. \n",
    "\n",
    "The example below demonstrates the `describe()` function, which provides descriptive statistics for the series. "
   ]
  },
  {
   "cell_type": "code",
   "execution_count": 9,
   "metadata": {},
   "outputs": [
    {
     "data": {
      "text/plain": [
       "count     3.000000\n",
       "mean     90.666667\n",
       "std       5.686241\n",
       "min      86.000000\n",
       "25%      87.500000\n",
       "50%      89.000000\n",
       "75%      93.000000\n",
       "max      97.000000\n",
       "dtype: float64"
      ]
     },
     "execution_count": 9,
     "metadata": {},
     "output_type": "execute_result"
    }
   ],
   "source": [
    "result.describe()"
   ]
  },
  {
   "cell_type": "code",
   "execution_count": null,
   "metadata": {},
   "outputs": [],
   "source": []
  },
  {
   "cell_type": "markdown",
   "metadata": {},
   "source": [
    "## 2. DataFrames\n",
    "A dataframe is a data structure that allows us to store tabular data. The columns in a dataframe is a series, and each column can represent a different data type. The rows are referred to as observations and the columns are called variables. \n",
    "\n",
    "#### Create a DataFrame using a Dictionary\n",
    "You can manually create a dataframe using a dictionary, as follows:"
   ]
  },
  {
   "cell_type": "code",
   "execution_count": 10,
   "metadata": {},
   "outputs": [
    {
     "data": {
      "text/html": [
       "<div>\n",
       "<style scoped>\n",
       "    .dataframe tbody tr th:only-of-type {\n",
       "        vertical-align: middle;\n",
       "    }\n",
       "\n",
       "    .dataframe tbody tr th {\n",
       "        vertical-align: top;\n",
       "    }\n",
       "\n",
       "    .dataframe thead th {\n",
       "        text-align: right;\n",
       "    }\n",
       "</style>\n",
       "<table border=\"1\" class=\"dataframe\">\n",
       "  <thead>\n",
       "    <tr style=\"text-align: right;\">\n",
       "      <th></th>\n",
       "      <th>jane</th>\n",
       "      <th>john</th>\n",
       "      <th>mary</th>\n",
       "    </tr>\n",
       "  </thead>\n",
       "  <tbody>\n",
       "    <tr>\n",
       "      <th>0</th>\n",
       "      <td>97.0</td>\n",
       "      <td>89.0</td>\n",
       "      <td>86.0</td>\n",
       "    </tr>\n",
       "    <tr>\n",
       "      <th>1</th>\n",
       "      <td>88.6</td>\n",
       "      <td>70.0</td>\n",
       "      <td>92.5</td>\n",
       "    </tr>\n",
       "    <tr>\n",
       "      <th>2</th>\n",
       "      <td>92.7</td>\n",
       "      <td>99.7</td>\n",
       "      <td>87.0</td>\n",
       "    </tr>\n",
       "  </tbody>\n",
       "</table>\n",
       "</div>"
      ],
      "text/plain": [
       "   jane  john  mary\n",
       "0  97.0  89.0  86.0\n",
       "1  88.6  70.0  92.5\n",
       "2  92.7  99.7  87.0"
      ]
     },
     "execution_count": 10,
     "metadata": {},
     "output_type": "execute_result"
    }
   ],
   "source": [
    "student_dict = {'jane': [97, 88.6, 92.7], 'john': [89, 70, 99.7], 'mary': [86, 92.5, 87]}\n",
    "grades_df    = pd.DataFrame(student_dict)\n",
    "grades_df"
   ]
  },
  {
   "cell_type": "markdown",
   "metadata": {},
   "source": [
    "In the example above, each column represents the data for a given student and each row depicts the performance of all three students on a given exam. The default behavior of a dataframe is to assign a default label for each row, this is the row index. However, these auto-incremented values are not very intuitive, so we can create our own custom indices. We can use the index attribute to change the DataFrame’s default indices to our custom labels as follows:"
   ]
  },
  {
   "cell_type": "code",
   "execution_count": 11,
   "metadata": {},
   "outputs": [
    {
     "data": {
      "text/html": [
       "<div>\n",
       "<style scoped>\n",
       "    .dataframe tbody tr th:only-of-type {\n",
       "        vertical-align: middle;\n",
       "    }\n",
       "\n",
       "    .dataframe tbody tr th {\n",
       "        vertical-align: top;\n",
       "    }\n",
       "\n",
       "    .dataframe thead th {\n",
       "        text-align: right;\n",
       "    }\n",
       "</style>\n",
       "<table border=\"1\" class=\"dataframe\">\n",
       "  <thead>\n",
       "    <tr style=\"text-align: right;\">\n",
       "      <th></th>\n",
       "      <th>jane</th>\n",
       "      <th>john</th>\n",
       "      <th>mary</th>\n",
       "    </tr>\n",
       "  </thead>\n",
       "  <tbody>\n",
       "    <tr>\n",
       "      <th>exam 1</th>\n",
       "      <td>97.0</td>\n",
       "      <td>89.0</td>\n",
       "      <td>86.0</td>\n",
       "    </tr>\n",
       "    <tr>\n",
       "      <th>exam 2</th>\n",
       "      <td>88.6</td>\n",
       "      <td>70.0</td>\n",
       "      <td>92.5</td>\n",
       "    </tr>\n",
       "    <tr>\n",
       "      <th>exam 3</th>\n",
       "      <td>92.7</td>\n",
       "      <td>99.7</td>\n",
       "      <td>87.0</td>\n",
       "    </tr>\n",
       "  </tbody>\n",
       "</table>\n",
       "</div>"
      ],
      "text/plain": [
       "        jane  john  mary\n",
       "exam 1  97.0  89.0  86.0\n",
       "exam 2  88.6  70.0  92.5\n",
       "exam 3  92.7  99.7  87.0"
      ]
     },
     "execution_count": 11,
     "metadata": {},
     "output_type": "execute_result"
    }
   ],
   "source": [
    "student_dict = {'jane': [97, 88.6, 92.7], 'john': [89, 70, 99.7], 'mary': [86, 92.5, 87]}\n",
    "grades_df    = pd.DataFrame(student_dict, index=['exam 1', 'exam 2', 'exam 3'])\n",
    "grades_df\n"
   ]
  },
  {
   "cell_type": "code",
   "execution_count": 12,
   "metadata": {},
   "outputs": [],
   "source": [
    "#This is an alternative way to change the index if you already defined the dataframe, and do not want to recreate it.\n",
    "grades_df.index = ['exam 1', 'exam 2', 'exam 3']\n"
   ]
  },
  {
   "cell_type": "markdown",
   "metadata": {},
   "source": [
    "#### Get the row and column labels\n",
    "When working with larger dataframes, there are times that you will need to retrieve the index for the rows and columns. This can be obtained using the following:"
   ]
  },
  {
   "cell_type": "code",
   "execution_count": 13,
   "metadata": {},
   "outputs": [
    {
     "data": {
      "text/plain": [
       "Index(['jane', 'john', 'mary'], dtype='object')"
      ]
     },
     "execution_count": 13,
     "metadata": {},
     "output_type": "execute_result"
    }
   ],
   "source": [
    "grades_df.columns #get the column labels\n"
   ]
  },
  {
   "cell_type": "code",
   "execution_count": 14,
   "metadata": {},
   "outputs": [
    {
     "data": {
      "text/plain": [
       "Index(['exam 1', 'exam 2', 'exam 3'], dtype='object')"
      ]
     },
     "execution_count": 14,
     "metadata": {},
     "output_type": "execute_result"
    }
   ],
   "source": [
    "grades_df.index #get the row labels"
   ]
  },
  {
   "cell_type": "code",
   "execution_count": null,
   "metadata": {},
   "outputs": [],
   "source": []
  },
  {
   "cell_type": "markdown",
   "metadata": {},
   "source": [
    "#### Accessing each Variable/Column\n",
    "We can access a specific variable in our dataframe directly using the column's data label. This extracts the entire data from the column and the result thats returned is a series. Here is an example:"
   ]
  },
  {
   "cell_type": "code",
   "execution_count": 15,
   "metadata": {},
   "outputs": [
    {
     "data": {
      "text/plain": [
       "exam 1    86.0\n",
       "exam 2    92.5\n",
       "exam 3    87.0\n",
       "Name: mary, dtype: float64"
      ]
     },
     "execution_count": 15,
     "metadata": {},
     "output_type": "execute_result"
    }
   ],
   "source": [
    "grades_df['mary']"
   ]
  },
  {
   "cell_type": "code",
   "execution_count": 16,
   "metadata": {},
   "outputs": [
    {
     "data": {
      "text/plain": [
       "pandas.core.series.Series"
      ]
     },
     "execution_count": 16,
     "metadata": {},
     "output_type": "execute_result"
    }
   ],
   "source": [
    "type(grades_df['mary'])"
   ]
  },
  {
   "cell_type": "code",
   "execution_count": null,
   "metadata": {},
   "outputs": [],
   "source": []
  },
  {
   "cell_type": "markdown",
   "metadata": {},
   "source": [
    "## 3. Loading-Tabular-Data\n",
    "#### Create a DataFrame using a Flat file\n",
    "The alternative way to create a dataframe is to load a flat file in your python environment. One of the many methods that pandas provides is the `read_csv()` function. This function allows us to read files that are stored locally (on our computer) and also from the web.\n",
    "\n",
    "In this example, I will demonstrate how to read a csv file that contains data on sharks worldwide. The data was obtained from the **Global Shark Attack File (GSAF)**; here is a [link to their website](https://www.sharkattackfile.net/index.htm). The GSAF is an initiative that records an incident log of verifiable shark encounters worldwide, and its often used by researchers to learn more about human/shark interactions.  \n",
    "\n",
    "I'll demonstrate how to load a local copy of the CSV file from this resource and also how to load the corresponding excel version."
   ]
  },
  {
   "cell_type": "code",
   "execution_count": 17,
   "metadata": {},
   "outputs": [
    {
     "data": {
      "text/plain": [
       "pandas.core.frame.DataFrame"
      ]
     },
     "execution_count": 17,
     "metadata": {},
     "output_type": "execute_result"
    }
   ],
   "source": [
    "#load data from a csv file\n",
    "shark_df = pd.read_csv('gsaf.csv') #the filename is the arguement. If this file was on the web, we would use the URL\n",
    "type(shark_df)"
   ]
  },
  {
   "cell_type": "markdown",
   "metadata": {},
   "source": [
    "After loading the data, inspect its properties to verify if the data was imported correctly i.e. does it contain the expected number of rows and columns. We should also verify if each column/variable has a suitable data type (which we will address in the EDA process)."
   ]
  },
  {
   "cell_type": "code",
   "execution_count": 18,
   "metadata": {},
   "outputs": [
    {
     "name": "stdout",
     "output_type": "stream",
     "text": [
      "<class 'pandas.core.frame.DataFrame'>\n",
      "RangeIndex: 6700 entries, 0 to 6699\n",
      "Data columns (total 16 columns):\n",
      " #   Column                  Non-Null Count  Dtype  \n",
      "---  ------                  --------------  -----  \n",
      " 0   Case Number             6696 non-null   object \n",
      " 1   Date                    6700 non-null   object \n",
      " 2   Year                    6698 non-null   float64\n",
      " 3   Type                    6685 non-null   object \n",
      " 4   Country                 6650 non-null   object \n",
      " 5   Area                    6228 non-null   object \n",
      " 6   Location                6146 non-null   object \n",
      " 7   Activity                6131 non-null   object \n",
      " 8   Name                    6485 non-null   object \n",
      " 9   Sex                     6126 non-null   object \n",
      " 10  Age                     3769 non-null   object \n",
      " 11  Injury                  6668 non-null   object \n",
      " 12  Fatal (Y/N)             6147 non-null   object \n",
      " 13  Time                    3245 non-null   object \n",
      " 14  Species                 3684 non-null   object \n",
      " 15  Investigator or Source  6681 non-null   object \n",
      "dtypes: float64(1), object(15)\n",
      "memory usage: 837.6+ KB\n"
     ]
    }
   ],
   "source": [
    "shark_df.info() #show the properties of the data frame"
   ]
  },
  {
   "cell_type": "markdown",
   "metadata": {},
   "source": [
    "The `df.info()` method provides a summary which contains the number of rows and columns in the dataframe e.g. `RangeIndex: 6700 entries` and `Data columns (total 16 columns)` respectively. It also itemized each column and indicates its respective data type. The last two lines provide a summary on the number of columns with respect to the data type and the memory usage of the dataframe.\n",
    "\n",
    "The output from the informative, is very information and we can see that the data contains a case number, the year and date, the type of attack, and the region in where the attack occurred. We also see the name, gender and age of the person who was involved, the type of activity they were participating in when the attack happened, along with additional information on any injuries or fatalities and the shark Species that was involved.\n",
    "\n",
    "\n",
    "However, if you only want to retrieve the dimensions for the dataframe, we can use the `.shape` method as follows:"
   ]
  },
  {
   "cell_type": "code",
   "execution_count": 19,
   "metadata": {},
   "outputs": [
    {
     "data": {
      "text/plain": [
       "(6700, 16)"
      ]
     },
     "execution_count": 19,
     "metadata": {},
     "output_type": "execute_result"
    }
   ],
   "source": [
    "shark_df.shape  #view the number of observations and variables"
   ]
  },
  {
   "cell_type": "markdown",
   "metadata": {},
   "source": [
    "The `.shape` method returns a tuple; the first element represents the number of rows and the second element is the number of columns.\n",
    "\n",
    "We need to inspect samples of the data to verify if it aligns with our expectations. we can use the `.head()` or `tail()` function to obtain the first or last five rows from the dataframe.  If we would like to see more than 5, we can provide an argument to the function.\n",
    "\n",
    "The example below demonstrates the head and tail function, using the default value of 5 observations."
   ]
  },
  {
   "cell_type": "code",
   "execution_count": 20,
   "metadata": {},
   "outputs": [
    {
     "data": {
      "text/html": [
       "<div>\n",
       "<style scoped>\n",
       "    .dataframe tbody tr th:only-of-type {\n",
       "        vertical-align: middle;\n",
       "    }\n",
       "\n",
       "    .dataframe tbody tr th {\n",
       "        vertical-align: top;\n",
       "    }\n",
       "\n",
       "    .dataframe thead th {\n",
       "        text-align: right;\n",
       "    }\n",
       "</style>\n",
       "<table border=\"1\" class=\"dataframe\">\n",
       "  <thead>\n",
       "    <tr style=\"text-align: right;\">\n",
       "      <th></th>\n",
       "      <th>Case Number</th>\n",
       "      <th>Date</th>\n",
       "      <th>Year</th>\n",
       "      <th>Type</th>\n",
       "      <th>Country</th>\n",
       "      <th>Area</th>\n",
       "      <th>Location</th>\n",
       "      <th>Activity</th>\n",
       "      <th>Name</th>\n",
       "      <th>Sex</th>\n",
       "      <th>Age</th>\n",
       "      <th>Injury</th>\n",
       "      <th>Fatal (Y/N)</th>\n",
       "      <th>Time</th>\n",
       "      <th>Species</th>\n",
       "      <th>Investigator or Source</th>\n",
       "    </tr>\n",
       "  </thead>\n",
       "  <tbody>\n",
       "    <tr>\n",
       "      <th>0</th>\n",
       "      <td>2021.09.10</td>\n",
       "      <td>10-Sep-2021</td>\n",
       "      <td>2021.0</td>\n",
       "      <td>NaN</td>\n",
       "      <td>EGYPT</td>\n",
       "      <td>NaN</td>\n",
       "      <td>Sidi Abdel Rahmen</td>\n",
       "      <td>Swimming</td>\n",
       "      <td>Mohamed</td>\n",
       "      <td>M</td>\n",
       "      <td>NaN</td>\n",
       "      <td>Laceration to arm caused by metal object</td>\n",
       "      <td>NaN</td>\n",
       "      <td>NaN</td>\n",
       "      <td>No shark invovlement</td>\n",
       "      <td>Dr. M. Fouda &amp; M. Salrm</td>\n",
       "    </tr>\n",
       "    <tr>\n",
       "      <th>1</th>\n",
       "      <td>2021.09.09</td>\n",
       "      <td>09-Sep-2021</td>\n",
       "      <td>2021.0</td>\n",
       "      <td>Unprovoked</td>\n",
       "      <td>USA</td>\n",
       "      <td>Florida</td>\n",
       "      <td>Ponce Inlet, Volusia County</td>\n",
       "      <td>Surfing</td>\n",
       "      <td>Doyle Neilsen</td>\n",
       "      <td>M</td>\n",
       "      <td>!6</td>\n",
       "      <td>Minor injury to right arm</td>\n",
       "      <td>N</td>\n",
       "      <td>13h20</td>\n",
       "      <td>NaN</td>\n",
       "      <td>Daytona Beach News-Journal, 9/14/2021</td>\n",
       "    </tr>\n",
       "    <tr>\n",
       "      <th>2</th>\n",
       "      <td>2021.09.05</td>\n",
       "      <td>05-Sep-2021</td>\n",
       "      <td>2021.0</td>\n",
       "      <td>Unprovoked</td>\n",
       "      <td>AUSTRALIA</td>\n",
       "      <td>New South Wales</td>\n",
       "      <td>Emerald Beach</td>\n",
       "      <td>Surfing</td>\n",
       "      <td>Timothy Thompson</td>\n",
       "      <td>M</td>\n",
       "      <td>31</td>\n",
       "      <td>FATAL</td>\n",
       "      <td>Y</td>\n",
       "      <td>10h30</td>\n",
       "      <td>White xhark</td>\n",
       "      <td>B. Myatt, GSAF</td>\n",
       "    </tr>\n",
       "    <tr>\n",
       "      <th>3</th>\n",
       "      <td>2021.09.03.b</td>\n",
       "      <td>03-Sep-2021</td>\n",
       "      <td>2021.0</td>\n",
       "      <td>Unprovoked</td>\n",
       "      <td>British Overseas Territory</td>\n",
       "      <td>Turks and Caicos</td>\n",
       "      <td>NaN</td>\n",
       "      <td>NaN</td>\n",
       "      <td>male</td>\n",
       "      <td>M</td>\n",
       "      <td>NaN</td>\n",
       "      <td>Wrist bitten</td>\n",
       "      <td>N</td>\n",
       "      <td>NaN</td>\n",
       "      <td>NaN</td>\n",
       "      <td>Anonymous</td>\n",
       "    </tr>\n",
       "    <tr>\n",
       "      <th>4</th>\n",
       "      <td>2021.08.28</td>\n",
       "      <td>28-Aug-2021</td>\n",
       "      <td>2021.0</td>\n",
       "      <td>Unprovoked</td>\n",
       "      <td>USA</td>\n",
       "      <td>Texas</td>\n",
       "      <td>Galveston Island, Galveston County</td>\n",
       "      <td>Boogie boarding</td>\n",
       "      <td>male</td>\n",
       "      <td>M</td>\n",
       "      <td>!!</td>\n",
       "      <td>Lacerations both sides of lower leg immediatel...</td>\n",
       "      <td>N</td>\n",
       "      <td>11h45</td>\n",
       "      <td>NaN</td>\n",
       "      <td>T. Craig, GSAF  &amp; K. McMurray, TrackingShark.com</td>\n",
       "    </tr>\n",
       "  </tbody>\n",
       "</table>\n",
       "</div>"
      ],
      "text/plain": [
       "    Case Number         Date    Year        Type                     Country  \\\n",
       "0    2021.09.10  10-Sep-2021  2021.0         NaN                       EGYPT   \n",
       "1    2021.09.09  09-Sep-2021  2021.0  Unprovoked                         USA   \n",
       "2    2021.09.05  05-Sep-2021  2021.0  Unprovoked                   AUSTRALIA   \n",
       "3  2021.09.03.b  03-Sep-2021  2021.0  Unprovoked  British Overseas Territory   \n",
       "4    2021.08.28  28-Aug-2021  2021.0  Unprovoked                         USA   \n",
       "\n",
       "               Area                            Location         Activity  \\\n",
       "0               NaN                  Sidi Abdel Rahmen          Swimming   \n",
       "1           Florida         Ponce Inlet, Volusia County          Surfing   \n",
       "2   New South Wales                       Emerald Beach          Surfing   \n",
       "3  Turks and Caicos                                 NaN              NaN   \n",
       "4             Texas  Galveston Island, Galveston County  Boogie boarding   \n",
       "\n",
       "               Name Sex   Age  \\\n",
       "0           Mohamed    M  NaN   \n",
       "1     Doyle Neilsen    M   !6   \n",
       "2  Timothy Thompson    M   31   \n",
       "3              male    M  NaN   \n",
       "4              male    M   !!   \n",
       "\n",
       "                                              Injury Fatal (Y/N)   Time  \\\n",
       "0           Laceration to arm caused by metal object         NaN    NaN   \n",
       "1                          Minor injury to right arm           N  13h20   \n",
       "2                                              FATAL           Y  10h30   \n",
       "3                                       Wrist bitten           N    NaN   \n",
       "4  Lacerations both sides of lower leg immediatel...           N  11h45   \n",
       "\n",
       "                Species                             Investigator or Source  \n",
       "0  No shark invovlement                            Dr. M. Fouda & M. Salrm  \n",
       "1                    NaN             Daytona Beach News-Journal, 9/14/2021  \n",
       "2            White xhark                                    B. Myatt, GSAF  \n",
       "3                    NaN                                         Anonymous  \n",
       "4                    NaN  T. Craig, GSAF  & K. McMurray, TrackingShark.com  "
      ]
     },
     "execution_count": 20,
     "metadata": {},
     "output_type": "execute_result"
    }
   ],
   "source": [
    "shark_df.head() #view the first 5 observations"
   ]
  },
  {
   "cell_type": "code",
   "execution_count": 21,
   "metadata": {},
   "outputs": [
    {
     "data": {
      "text/html": [
       "<div>\n",
       "<style scoped>\n",
       "    .dataframe tbody tr th:only-of-type {\n",
       "        vertical-align: middle;\n",
       "    }\n",
       "\n",
       "    .dataframe tbody tr th {\n",
       "        vertical-align: top;\n",
       "    }\n",
       "\n",
       "    .dataframe thead th {\n",
       "        text-align: right;\n",
       "    }\n",
       "</style>\n",
       "<table border=\"1\" class=\"dataframe\">\n",
       "  <thead>\n",
       "    <tr style=\"text-align: right;\">\n",
       "      <th></th>\n",
       "      <th>Case Number</th>\n",
       "      <th>Date</th>\n",
       "      <th>Year</th>\n",
       "      <th>Type</th>\n",
       "      <th>Country</th>\n",
       "      <th>Area</th>\n",
       "      <th>Location</th>\n",
       "      <th>Activity</th>\n",
       "      <th>Name</th>\n",
       "      <th>Sex</th>\n",
       "      <th>Age</th>\n",
       "      <th>Injury</th>\n",
       "      <th>Fatal (Y/N)</th>\n",
       "      <th>Time</th>\n",
       "      <th>Species</th>\n",
       "      <th>Investigator or Source</th>\n",
       "    </tr>\n",
       "  </thead>\n",
       "  <tbody>\n",
       "    <tr>\n",
       "      <th>6695</th>\n",
       "      <td>ND.0005</td>\n",
       "      <td>Before 1903</td>\n",
       "      <td>0.0</td>\n",
       "      <td>Unprovoked</td>\n",
       "      <td>AUSTRALIA</td>\n",
       "      <td>Western Australia</td>\n",
       "      <td>Roebuck Bay</td>\n",
       "      <td>Diving</td>\n",
       "      <td>male</td>\n",
       "      <td>M</td>\n",
       "      <td>NaN</td>\n",
       "      <td>FATAL</td>\n",
       "      <td>Y</td>\n",
       "      <td>NaN</td>\n",
       "      <td>NaN</td>\n",
       "      <td>H. Taunton; N. Bartlett,  p. 234</td>\n",
       "    </tr>\n",
       "    <tr>\n",
       "      <th>6696</th>\n",
       "      <td>ND.0004</td>\n",
       "      <td>Before 1903</td>\n",
       "      <td>0.0</td>\n",
       "      <td>Unprovoked</td>\n",
       "      <td>AUSTRALIA</td>\n",
       "      <td>Western Australia</td>\n",
       "      <td>NaN</td>\n",
       "      <td>Pearl diving</td>\n",
       "      <td>Ahmun</td>\n",
       "      <td>M</td>\n",
       "      <td>NaN</td>\n",
       "      <td>FATAL</td>\n",
       "      <td>Y</td>\n",
       "      <td>NaN</td>\n",
       "      <td>NaN</td>\n",
       "      <td>H. Taunton; N. Bartlett,  pp. 233-234</td>\n",
       "    </tr>\n",
       "    <tr>\n",
       "      <th>6697</th>\n",
       "      <td>ND.0003</td>\n",
       "      <td>1900-1905</td>\n",
       "      <td>0.0</td>\n",
       "      <td>Unprovoked</td>\n",
       "      <td>USA</td>\n",
       "      <td>North Carolina</td>\n",
       "      <td>Ocracoke Inlet</td>\n",
       "      <td>Swimming</td>\n",
       "      <td>Coast Guard personnel</td>\n",
       "      <td>M</td>\n",
       "      <td>NaN</td>\n",
       "      <td>FATAL</td>\n",
       "      <td>Y</td>\n",
       "      <td>NaN</td>\n",
       "      <td>NaN</td>\n",
       "      <td>F. Schwartz, p.23; C. Creswell, GSAF</td>\n",
       "    </tr>\n",
       "    <tr>\n",
       "      <th>6698</th>\n",
       "      <td>ND.0002</td>\n",
       "      <td>1883-1889</td>\n",
       "      <td>0.0</td>\n",
       "      <td>Unprovoked</td>\n",
       "      <td>PANAMA</td>\n",
       "      <td>NaN</td>\n",
       "      <td>Panama Bay 8ºN, 79ºW</td>\n",
       "      <td>NaN</td>\n",
       "      <td>Jules Patterson</td>\n",
       "      <td>M</td>\n",
       "      <td>NaN</td>\n",
       "      <td>FATAL</td>\n",
       "      <td>Y</td>\n",
       "      <td>NaN</td>\n",
       "      <td>NaN</td>\n",
       "      <td>The Sun, 10/20/1938</td>\n",
       "    </tr>\n",
       "    <tr>\n",
       "      <th>6699</th>\n",
       "      <td>ND.0001</td>\n",
       "      <td>1845-1853</td>\n",
       "      <td>0.0</td>\n",
       "      <td>Unprovoked</td>\n",
       "      <td>CEYLON (SRI LANKA)</td>\n",
       "      <td>Eastern Province</td>\n",
       "      <td>Below the English fort, Trincomalee</td>\n",
       "      <td>Swimming</td>\n",
       "      <td>male</td>\n",
       "      <td>M</td>\n",
       "      <td>15</td>\n",
       "      <td>FATAL. \"Shark bit him in half, carrying away t...</td>\n",
       "      <td>Y</td>\n",
       "      <td>NaN</td>\n",
       "      <td>NaN</td>\n",
       "      <td>S.W. Baker</td>\n",
       "    </tr>\n",
       "  </tbody>\n",
       "</table>\n",
       "</div>"
      ],
      "text/plain": [
       "     Case Number         Date  Year        Type             Country  \\\n",
       "6695     ND.0005  Before 1903   0.0  Unprovoked           AUSTRALIA   \n",
       "6696     ND.0004  Before 1903   0.0  Unprovoked           AUSTRALIA   \n",
       "6697     ND.0003    1900-1905   0.0  Unprovoked                 USA   \n",
       "6698     ND.0002    1883-1889   0.0  Unprovoked              PANAMA   \n",
       "6699     ND.0001    1845-1853   0.0  Unprovoked  CEYLON (SRI LANKA)   \n",
       "\n",
       "                   Area                             Location      Activity  \\\n",
       "6695  Western Australia                          Roebuck Bay        Diving   \n",
       "6696  Western Australia                                  NaN  Pearl diving   \n",
       "6697     North Carolina                       Ocracoke Inlet      Swimming   \n",
       "6698                NaN                 Panama Bay 8ºN, 79ºW           NaN   \n",
       "6699   Eastern Province  Below the English fort, Trincomalee      Swimming   \n",
       "\n",
       "                       Name Sex   Age  \\\n",
       "6695                   male    M  NaN   \n",
       "6696                  Ahmun    M  NaN   \n",
       "6697  Coast Guard personnel    M  NaN   \n",
       "6698        Jules Patterson    M  NaN   \n",
       "6699                   male    M   15   \n",
       "\n",
       "                                                 Injury Fatal (Y/N) Time  \\\n",
       "6695                                              FATAL           Y  NaN   \n",
       "6696                                              FATAL           Y  NaN   \n",
       "6697                                              FATAL           Y  NaN   \n",
       "6698                                              FATAL           Y  NaN   \n",
       "6699  FATAL. \"Shark bit him in half, carrying away t...           Y  NaN   \n",
       "\n",
       "     Species                  Investigator or Source  \n",
       "6695      NaN       H. Taunton; N. Bartlett,  p. 234  \n",
       "6696      NaN  H. Taunton; N. Bartlett,  pp. 233-234  \n",
       "6697      NaN   F. Schwartz, p.23; C. Creswell, GSAF  \n",
       "6698      NaN                    The Sun, 10/20/1938  \n",
       "6699      NaN                             S.W. Baker  "
      ]
     },
     "execution_count": 21,
     "metadata": {},
     "output_type": "execute_result"
    }
   ],
   "source": [
    "shark_df.tail() #view the last 5 observations"
   ]
  },
  {
   "cell_type": "code",
   "execution_count": 22,
   "metadata": {},
   "outputs": [
    {
     "data": {
      "text/html": [
       "<div>\n",
       "<style scoped>\n",
       "    .dataframe tbody tr th:only-of-type {\n",
       "        vertical-align: middle;\n",
       "    }\n",
       "\n",
       "    .dataframe tbody tr th {\n",
       "        vertical-align: top;\n",
       "    }\n",
       "\n",
       "    .dataframe thead th {\n",
       "        text-align: right;\n",
       "    }\n",
       "</style>\n",
       "<table border=\"1\" class=\"dataframe\">\n",
       "  <thead>\n",
       "    <tr style=\"text-align: right;\">\n",
       "      <th></th>\n",
       "      <th>Case Number</th>\n",
       "      <th>Date</th>\n",
       "      <th>Year</th>\n",
       "      <th>Type</th>\n",
       "      <th>Country</th>\n",
       "      <th>Area</th>\n",
       "      <th>Location</th>\n",
       "      <th>Activity</th>\n",
       "      <th>Name</th>\n",
       "      <th>Sex</th>\n",
       "      <th>Age</th>\n",
       "      <th>Injury</th>\n",
       "      <th>Fatal (Y/N)</th>\n",
       "      <th>Time</th>\n",
       "      <th>Species</th>\n",
       "      <th>Investigator or Source</th>\n",
       "    </tr>\n",
       "  </thead>\n",
       "  <tbody>\n",
       "    <tr>\n",
       "      <th>6698</th>\n",
       "      <td>ND.0002</td>\n",
       "      <td>1883-1889</td>\n",
       "      <td>0.0</td>\n",
       "      <td>Unprovoked</td>\n",
       "      <td>PANAMA</td>\n",
       "      <td>NaN</td>\n",
       "      <td>Panama Bay 8ºN, 79ºW</td>\n",
       "      <td>NaN</td>\n",
       "      <td>Jules Patterson</td>\n",
       "      <td>M</td>\n",
       "      <td>NaN</td>\n",
       "      <td>FATAL</td>\n",
       "      <td>Y</td>\n",
       "      <td>NaN</td>\n",
       "      <td>NaN</td>\n",
       "      <td>The Sun, 10/20/1938</td>\n",
       "    </tr>\n",
       "    <tr>\n",
       "      <th>6699</th>\n",
       "      <td>ND.0001</td>\n",
       "      <td>1845-1853</td>\n",
       "      <td>0.0</td>\n",
       "      <td>Unprovoked</td>\n",
       "      <td>CEYLON (SRI LANKA)</td>\n",
       "      <td>Eastern Province</td>\n",
       "      <td>Below the English fort, Trincomalee</td>\n",
       "      <td>Swimming</td>\n",
       "      <td>male</td>\n",
       "      <td>M</td>\n",
       "      <td>15</td>\n",
       "      <td>FATAL. \"Shark bit him in half, carrying away t...</td>\n",
       "      <td>Y</td>\n",
       "      <td>NaN</td>\n",
       "      <td>NaN</td>\n",
       "      <td>S.W. Baker</td>\n",
       "    </tr>\n",
       "  </tbody>\n",
       "</table>\n",
       "</div>"
      ],
      "text/plain": [
       "     Case Number       Date  Year        Type             Country  \\\n",
       "6698     ND.0002  1883-1889   0.0  Unprovoked              PANAMA   \n",
       "6699     ND.0001  1845-1853   0.0  Unprovoked  CEYLON (SRI LANKA)   \n",
       "\n",
       "                  Area                             Location  Activity  \\\n",
       "6698               NaN                 Panama Bay 8ºN, 79ºW       NaN   \n",
       "6699  Eastern Province  Below the English fort, Trincomalee  Swimming   \n",
       "\n",
       "                 Name Sex   Age  \\\n",
       "6698  Jules Patterson    M  NaN   \n",
       "6699             male    M   15   \n",
       "\n",
       "                                                 Injury Fatal (Y/N) Time  \\\n",
       "6698                                              FATAL           Y  NaN   \n",
       "6699  FATAL. \"Shark bit him in half, carrying away t...           Y  NaN   \n",
       "\n",
       "     Species  Investigator or Source  \n",
       "6698      NaN    The Sun, 10/20/1938  \n",
       "6699      NaN             S.W. Baker  "
      ]
     },
     "execution_count": 22,
     "metadata": {},
     "output_type": "execute_result"
    }
   ],
   "source": [
    "shark_df.tail(2) #view the last 2 observations"
   ]
  },
  {
   "cell_type": "code",
   "execution_count": null,
   "metadata": {},
   "outputs": [],
   "source": []
  },
  {
   "cell_type": "markdown",
   "metadata": {},
   "source": [
    "#### Accessing Variables from the DataFrame\n",
    "We can select one or more variables and/or observations from the dataframe using the index, slicing and subsetting. The example below demonstrate how to retrieve the country variable from the dataframe."
   ]
  },
  {
   "cell_type": "code",
   "execution_count": 23,
   "metadata": {},
   "outputs": [
    {
     "data": {
      "text/plain": [
       "0                            EGYPT\n",
       "1                              USA\n",
       "2                        AUSTRALIA\n",
       "3       British Overseas Territory\n",
       "4                              USA\n",
       "                   ...            \n",
       "6695                     AUSTRALIA\n",
       "6696                     AUSTRALIA\n",
       "6697                           USA\n",
       "6698                        PANAMA\n",
       "6699            CEYLON (SRI LANKA)\n",
       "Name: Country, Length: 6700, dtype: object"
      ]
     },
     "execution_count": 23,
     "metadata": {},
     "output_type": "execute_result"
    }
   ],
   "source": [
    "shark_df['Country'] #select a variable using square bracket notation"
   ]
  },
  {
   "cell_type": "code",
   "execution_count": 24,
   "metadata": {},
   "outputs": [
    {
     "data": {
      "text/plain": [
       "pandas.core.series.Series"
      ]
     },
     "execution_count": 24,
     "metadata": {},
     "output_type": "execute_result"
    }
   ],
   "source": [
    "type(shark_df['Country']) #the extracted data is a series"
   ]
  },
  {
   "cell_type": "code",
   "execution_count": 25,
   "metadata": {},
   "outputs": [
    {
     "data": {
      "text/plain": [
       "0                            EGYPT\n",
       "1                              USA\n",
       "2                        AUSTRALIA\n",
       "3       British Overseas Territory\n",
       "4                              USA\n",
       "                   ...            \n",
       "6695                     AUSTRALIA\n",
       "6696                     AUSTRALIA\n",
       "6697                           USA\n",
       "6698                        PANAMA\n",
       "6699            CEYLON (SRI LANKA)\n",
       "Name: Country, Length: 6700, dtype: object"
      ]
     },
     "execution_count": 25,
     "metadata": {},
     "output_type": "execute_result"
    }
   ],
   "source": [
    "#Alternative approach\n",
    "shark_df.Country #select a variable using dot notation"
   ]
  },
  {
   "cell_type": "code",
   "execution_count": null,
   "metadata": {},
   "outputs": [],
   "source": []
  },
  {
   "cell_type": "markdown",
   "metadata": {},
   "source": [
    "#### selecting multiple columns\n",
    "The example above returns a series that represents each column. However, if we wanted to convert it to a dataframe we can do the following:"
   ]
  },
  {
   "cell_type": "code",
   "execution_count": 26,
   "metadata": {},
   "outputs": [
    {
     "data": {
      "text/html": [
       "<div>\n",
       "<style scoped>\n",
       "    .dataframe tbody tr th:only-of-type {\n",
       "        vertical-align: middle;\n",
       "    }\n",
       "\n",
       "    .dataframe tbody tr th {\n",
       "        vertical-align: top;\n",
       "    }\n",
       "\n",
       "    .dataframe thead th {\n",
       "        text-align: right;\n",
       "    }\n",
       "</style>\n",
       "<table border=\"1\" class=\"dataframe\">\n",
       "  <thead>\n",
       "    <tr style=\"text-align: right;\">\n",
       "      <th></th>\n",
       "      <th>Country</th>\n",
       "    </tr>\n",
       "  </thead>\n",
       "  <tbody>\n",
       "    <tr>\n",
       "      <th>0</th>\n",
       "      <td>EGYPT</td>\n",
       "    </tr>\n",
       "    <tr>\n",
       "      <th>1</th>\n",
       "      <td>USA</td>\n",
       "    </tr>\n",
       "    <tr>\n",
       "      <th>2</th>\n",
       "      <td>AUSTRALIA</td>\n",
       "    </tr>\n",
       "    <tr>\n",
       "      <th>3</th>\n",
       "      <td>British Overseas Territory</td>\n",
       "    </tr>\n",
       "    <tr>\n",
       "      <th>4</th>\n",
       "      <td>USA</td>\n",
       "    </tr>\n",
       "    <tr>\n",
       "      <th>...</th>\n",
       "      <td>...</td>\n",
       "    </tr>\n",
       "    <tr>\n",
       "      <th>6695</th>\n",
       "      <td>AUSTRALIA</td>\n",
       "    </tr>\n",
       "    <tr>\n",
       "      <th>6696</th>\n",
       "      <td>AUSTRALIA</td>\n",
       "    </tr>\n",
       "    <tr>\n",
       "      <th>6697</th>\n",
       "      <td>USA</td>\n",
       "    </tr>\n",
       "    <tr>\n",
       "      <th>6698</th>\n",
       "      <td>PANAMA</td>\n",
       "    </tr>\n",
       "    <tr>\n",
       "      <th>6699</th>\n",
       "      <td>CEYLON (SRI LANKA)</td>\n",
       "    </tr>\n",
       "  </tbody>\n",
       "</table>\n",
       "<p>6700 rows × 1 columns</p>\n",
       "</div>"
      ],
      "text/plain": [
       "                         Country\n",
       "0                          EGYPT\n",
       "1                            USA\n",
       "2                      AUSTRALIA\n",
       "3     British Overseas Territory\n",
       "4                            USA\n",
       "...                          ...\n",
       "6695                   AUSTRALIA\n",
       "6696                   AUSTRALIA\n",
       "6697                         USA\n",
       "6698                      PANAMA\n",
       "6699          CEYLON (SRI LANKA)\n",
       "\n",
       "[6700 rows x 1 columns]"
      ]
     },
     "execution_count": 26,
     "metadata": {},
     "output_type": "execute_result"
    }
   ],
   "source": [
    "shark_df[['Country']]"
   ]
  },
  {
   "cell_type": "markdown",
   "metadata": {},
   "source": [
    "If you check the type of the output above, you will see that its in fact a dataframe. If we wanted to extract multiple columns, we could create a list of names. The example below demonstrates how to extract the **Country**, **Area**, and **Location**:"
   ]
  },
  {
   "cell_type": "code",
   "execution_count": 27,
   "metadata": {},
   "outputs": [
    {
     "data": {
      "text/html": [
       "<div>\n",
       "<style scoped>\n",
       "    .dataframe tbody tr th:only-of-type {\n",
       "        vertical-align: middle;\n",
       "    }\n",
       "\n",
       "    .dataframe tbody tr th {\n",
       "        vertical-align: top;\n",
       "    }\n",
       "\n",
       "    .dataframe thead th {\n",
       "        text-align: right;\n",
       "    }\n",
       "</style>\n",
       "<table border=\"1\" class=\"dataframe\">\n",
       "  <thead>\n",
       "    <tr style=\"text-align: right;\">\n",
       "      <th></th>\n",
       "      <th>Country</th>\n",
       "      <th>Area</th>\n",
       "      <th>Location</th>\n",
       "    </tr>\n",
       "  </thead>\n",
       "  <tbody>\n",
       "    <tr>\n",
       "      <th>0</th>\n",
       "      <td>EGYPT</td>\n",
       "      <td>NaN</td>\n",
       "      <td>Sidi Abdel Rahmen</td>\n",
       "    </tr>\n",
       "    <tr>\n",
       "      <th>1</th>\n",
       "      <td>USA</td>\n",
       "      <td>Florida</td>\n",
       "      <td>Ponce Inlet, Volusia County</td>\n",
       "    </tr>\n",
       "    <tr>\n",
       "      <th>2</th>\n",
       "      <td>AUSTRALIA</td>\n",
       "      <td>New South Wales</td>\n",
       "      <td>Emerald Beach</td>\n",
       "    </tr>\n",
       "    <tr>\n",
       "      <th>3</th>\n",
       "      <td>British Overseas Territory</td>\n",
       "      <td>Turks and Caicos</td>\n",
       "      <td>NaN</td>\n",
       "    </tr>\n",
       "    <tr>\n",
       "      <th>4</th>\n",
       "      <td>USA</td>\n",
       "      <td>Texas</td>\n",
       "      <td>Galveston Island, Galveston County</td>\n",
       "    </tr>\n",
       "    <tr>\n",
       "      <th>...</th>\n",
       "      <td>...</td>\n",
       "      <td>...</td>\n",
       "      <td>...</td>\n",
       "    </tr>\n",
       "    <tr>\n",
       "      <th>6695</th>\n",
       "      <td>AUSTRALIA</td>\n",
       "      <td>Western Australia</td>\n",
       "      <td>Roebuck Bay</td>\n",
       "    </tr>\n",
       "    <tr>\n",
       "      <th>6696</th>\n",
       "      <td>AUSTRALIA</td>\n",
       "      <td>Western Australia</td>\n",
       "      <td>NaN</td>\n",
       "    </tr>\n",
       "    <tr>\n",
       "      <th>6697</th>\n",
       "      <td>USA</td>\n",
       "      <td>North Carolina</td>\n",
       "      <td>Ocracoke Inlet</td>\n",
       "    </tr>\n",
       "    <tr>\n",
       "      <th>6698</th>\n",
       "      <td>PANAMA</td>\n",
       "      <td>NaN</td>\n",
       "      <td>Panama Bay 8ºN, 79ºW</td>\n",
       "    </tr>\n",
       "    <tr>\n",
       "      <th>6699</th>\n",
       "      <td>CEYLON (SRI LANKA)</td>\n",
       "      <td>Eastern Province</td>\n",
       "      <td>Below the English fort, Trincomalee</td>\n",
       "    </tr>\n",
       "  </tbody>\n",
       "</table>\n",
       "<p>6700 rows × 3 columns</p>\n",
       "</div>"
      ],
      "text/plain": [
       "                         Country               Area  \\\n",
       "0                          EGYPT                NaN   \n",
       "1                            USA            Florida   \n",
       "2                      AUSTRALIA    New South Wales   \n",
       "3     British Overseas Territory   Turks and Caicos   \n",
       "4                            USA              Texas   \n",
       "...                          ...                ...   \n",
       "6695                   AUSTRALIA  Western Australia   \n",
       "6696                   AUSTRALIA  Western Australia   \n",
       "6697                         USA     North Carolina   \n",
       "6698                      PANAMA                NaN   \n",
       "6699          CEYLON (SRI LANKA)   Eastern Province   \n",
       "\n",
       "                                 Location  \n",
       "0                      Sidi Abdel Rahmen   \n",
       "1             Ponce Inlet, Volusia County  \n",
       "2                           Emerald Beach  \n",
       "3                                     NaN  \n",
       "4      Galveston Island, Galveston County  \n",
       "...                                   ...  \n",
       "6695                          Roebuck Bay  \n",
       "6696                                  NaN  \n",
       "6697                       Ocracoke Inlet  \n",
       "6698                 Panama Bay 8ºN, 79ºW  \n",
       "6699  Below the English fort, Trincomalee  \n",
       "\n",
       "[6700 rows x 3 columns]"
      ]
     },
     "execution_count": 27,
     "metadata": {},
     "output_type": "execute_result"
    }
   ],
   "source": [
    "shark_df[['Country', 'Area', 'Location']]"
   ]
  },
  {
   "cell_type": "code",
   "execution_count": null,
   "metadata": {},
   "outputs": [],
   "source": []
  },
  {
   "cell_type": "markdown",
   "metadata": {},
   "source": [
    "We can also obtain rows from the dataframe, if we specify a slice. The example below, extracts the second and third rows from the dataframe."
   ]
  },
  {
   "cell_type": "code",
   "execution_count": 28,
   "metadata": {},
   "outputs": [
    {
     "data": {
      "text/html": [
       "<div>\n",
       "<style scoped>\n",
       "    .dataframe tbody tr th:only-of-type {\n",
       "        vertical-align: middle;\n",
       "    }\n",
       "\n",
       "    .dataframe tbody tr th {\n",
       "        vertical-align: top;\n",
       "    }\n",
       "\n",
       "    .dataframe thead th {\n",
       "        text-align: right;\n",
       "    }\n",
       "</style>\n",
       "<table border=\"1\" class=\"dataframe\">\n",
       "  <thead>\n",
       "    <tr style=\"text-align: right;\">\n",
       "      <th></th>\n",
       "      <th>Case Number</th>\n",
       "      <th>Date</th>\n",
       "      <th>Year</th>\n",
       "      <th>Type</th>\n",
       "      <th>Country</th>\n",
       "      <th>Area</th>\n",
       "      <th>Location</th>\n",
       "      <th>Activity</th>\n",
       "      <th>Name</th>\n",
       "      <th>Sex</th>\n",
       "      <th>Age</th>\n",
       "      <th>Injury</th>\n",
       "      <th>Fatal (Y/N)</th>\n",
       "      <th>Time</th>\n",
       "      <th>Species</th>\n",
       "      <th>Investigator or Source</th>\n",
       "    </tr>\n",
       "  </thead>\n",
       "  <tbody>\n",
       "    <tr>\n",
       "      <th>1</th>\n",
       "      <td>2021.09.09</td>\n",
       "      <td>09-Sep-2021</td>\n",
       "      <td>2021.0</td>\n",
       "      <td>Unprovoked</td>\n",
       "      <td>USA</td>\n",
       "      <td>Florida</td>\n",
       "      <td>Ponce Inlet, Volusia County</td>\n",
       "      <td>Surfing</td>\n",
       "      <td>Doyle Neilsen</td>\n",
       "      <td>M</td>\n",
       "      <td>!6</td>\n",
       "      <td>Minor injury to right arm</td>\n",
       "      <td>N</td>\n",
       "      <td>13h20</td>\n",
       "      <td>NaN</td>\n",
       "      <td>Daytona Beach News-Journal, 9/14/2021</td>\n",
       "    </tr>\n",
       "    <tr>\n",
       "      <th>2</th>\n",
       "      <td>2021.09.05</td>\n",
       "      <td>05-Sep-2021</td>\n",
       "      <td>2021.0</td>\n",
       "      <td>Unprovoked</td>\n",
       "      <td>AUSTRALIA</td>\n",
       "      <td>New South Wales</td>\n",
       "      <td>Emerald Beach</td>\n",
       "      <td>Surfing</td>\n",
       "      <td>Timothy Thompson</td>\n",
       "      <td>M</td>\n",
       "      <td>31</td>\n",
       "      <td>FATAL</td>\n",
       "      <td>Y</td>\n",
       "      <td>10h30</td>\n",
       "      <td>White xhark</td>\n",
       "      <td>B. Myatt, GSAF</td>\n",
       "    </tr>\n",
       "  </tbody>\n",
       "</table>\n",
       "</div>"
      ],
      "text/plain": [
       "  Case Number         Date    Year        Type    Country             Area  \\\n",
       "1  2021.09.09  09-Sep-2021  2021.0  Unprovoked        USA          Florida   \n",
       "2  2021.09.05  05-Sep-2021  2021.0  Unprovoked  AUSTRALIA  New South Wales   \n",
       "\n",
       "                      Location Activity              Name Sex  Age  \\\n",
       "1  Ponce Inlet, Volusia County  Surfing     Doyle Neilsen    M  !6   \n",
       "2                Emerald Beach  Surfing  Timothy Thompson    M  31   \n",
       "\n",
       "                      Injury Fatal (Y/N)   Time     Species   \\\n",
       "1  Minor injury to right arm           N  13h20          NaN   \n",
       "2                      FATAL           Y  10h30  White xhark   \n",
       "\n",
       "                  Investigator or Source  \n",
       "1  Daytona Beach News-Journal, 9/14/2021  \n",
       "2                         B. Myatt, GSAF  "
      ]
     },
     "execution_count": 28,
     "metadata": {},
     "output_type": "execute_result"
    }
   ],
   "source": [
    "shark_df[1:3]"
   ]
  },
  {
   "cell_type": "code",
   "execution_count": null,
   "metadata": {},
   "outputs": [],
   "source": []
  },
  {
   "cell_type": "markdown",
   "metadata": {},
   "source": [
    "#### Advanced Access using `loc` and `iloc`\n",
    "Seeing that Pandas is built on numpy, we can access the data in a similar manner as you would a 2D numpy array. The `loc` function allow us to access the data based on the respective labels and `iloc` uses the positional index.\n",
    "\n",
    "**lets extract the second observation, using the loc method**"
   ]
  },
  {
   "cell_type": "code",
   "execution_count": 29,
   "metadata": {},
   "outputs": [
    {
     "data": {
      "text/plain": [
       "Case Number                                          2021.09.09\n",
       "Date                                                09-Sep-2021\n",
       "Year                                                       2021\n",
       "Type                                                 Unprovoked\n",
       "Country                                                     USA\n",
       "Area                                                    Florida\n",
       "Location                            Ponce Inlet, Volusia County\n",
       "Activity                                                Surfing\n",
       "Name                                              Doyle Neilsen\n",
       "Sex                                                           M\n",
       "Age                                                          !6\n",
       "Injury                                Minor injury to right arm\n",
       "Fatal (Y/N)                                                   N\n",
       "Time                                                      13h20\n",
       "Species                                                     NaN\n",
       "Investigator or Source    Daytona Beach News-Journal, 9/14/2021\n",
       "Name: 1, dtype: object"
      ]
     },
     "execution_count": 29,
     "metadata": {},
     "output_type": "execute_result"
    }
   ],
   "source": [
    "shark_df.loc[1] #the row index is numeric because we did not change the default behavior when we imported the data\n"
   ]
  },
  {
   "cell_type": "markdown",
   "metadata": {},
   "source": [
    "As you can see this returned a series, however if we wanted a dataframe we could type the following `shark_df.loc[[1]]`. I'll leave this as an exercise for you to try.\n",
    "\n",
    "We can select multiple rows, by providing a sequence of indices."
   ]
  },
  {
   "cell_type": "code",
   "execution_count": 30,
   "metadata": {},
   "outputs": [
    {
     "data": {
      "text/html": [
       "<div>\n",
       "<style scoped>\n",
       "    .dataframe tbody tr th:only-of-type {\n",
       "        vertical-align: middle;\n",
       "    }\n",
       "\n",
       "    .dataframe tbody tr th {\n",
       "        vertical-align: top;\n",
       "    }\n",
       "\n",
       "    .dataframe thead th {\n",
       "        text-align: right;\n",
       "    }\n",
       "</style>\n",
       "<table border=\"1\" class=\"dataframe\">\n",
       "  <thead>\n",
       "    <tr style=\"text-align: right;\">\n",
       "      <th></th>\n",
       "      <th>Case Number</th>\n",
       "      <th>Date</th>\n",
       "      <th>Year</th>\n",
       "      <th>Type</th>\n",
       "      <th>Country</th>\n",
       "      <th>Area</th>\n",
       "      <th>Location</th>\n",
       "      <th>Activity</th>\n",
       "      <th>Name</th>\n",
       "      <th>Sex</th>\n",
       "      <th>Age</th>\n",
       "      <th>Injury</th>\n",
       "      <th>Fatal (Y/N)</th>\n",
       "      <th>Time</th>\n",
       "      <th>Species</th>\n",
       "      <th>Investigator or Source</th>\n",
       "    </tr>\n",
       "  </thead>\n",
       "  <tbody>\n",
       "    <tr>\n",
       "      <th>1</th>\n",
       "      <td>2021.09.09</td>\n",
       "      <td>09-Sep-2021</td>\n",
       "      <td>2021.0</td>\n",
       "      <td>Unprovoked</td>\n",
       "      <td>USA</td>\n",
       "      <td>Florida</td>\n",
       "      <td>Ponce Inlet, Volusia County</td>\n",
       "      <td>Surfing</td>\n",
       "      <td>Doyle Neilsen</td>\n",
       "      <td>M</td>\n",
       "      <td>!6</td>\n",
       "      <td>Minor injury to right arm</td>\n",
       "      <td>N</td>\n",
       "      <td>13h20</td>\n",
       "      <td>NaN</td>\n",
       "      <td>Daytona Beach News-Journal, 9/14/2021</td>\n",
       "    </tr>\n",
       "    <tr>\n",
       "      <th>2</th>\n",
       "      <td>2021.09.05</td>\n",
       "      <td>05-Sep-2021</td>\n",
       "      <td>2021.0</td>\n",
       "      <td>Unprovoked</td>\n",
       "      <td>AUSTRALIA</td>\n",
       "      <td>New South Wales</td>\n",
       "      <td>Emerald Beach</td>\n",
       "      <td>Surfing</td>\n",
       "      <td>Timothy Thompson</td>\n",
       "      <td>M</td>\n",
       "      <td>31</td>\n",
       "      <td>FATAL</td>\n",
       "      <td>Y</td>\n",
       "      <td>10h30</td>\n",
       "      <td>White xhark</td>\n",
       "      <td>B. Myatt, GSAF</td>\n",
       "    </tr>\n",
       "    <tr>\n",
       "      <th>13</th>\n",
       "      <td>2021.07.30</td>\n",
       "      <td>30-Jul-2021</td>\n",
       "      <td>2021.0</td>\n",
       "      <td>Provoked</td>\n",
       "      <td>USA</td>\n",
       "      <td>Florida</td>\n",
       "      <td>Ponce Inlet, Volusia County</td>\n",
       "      <td>Fishing</td>\n",
       "      <td>male</td>\n",
       "      <td>M</td>\n",
       "      <td>47</td>\n",
       "      <td>Hands bitten while attempting to unhook shark ...</td>\n",
       "      <td>N</td>\n",
       "      <td>11h00</td>\n",
       "      <td>NaN</td>\n",
       "      <td>J. Marchand, GSAF</td>\n",
       "    </tr>\n",
       "    <tr>\n",
       "      <th>44</th>\n",
       "      <td>2021.06.11</td>\n",
       "      <td>11-Jun-2021</td>\n",
       "      <td>2021.0</td>\n",
       "      <td>Unprovoked</td>\n",
       "      <td>AUSTRALIA</td>\n",
       "      <td>Western Australia</td>\n",
       "      <td>Five Fingers Reef</td>\n",
       "      <td>Snorkeling</td>\n",
       "      <td>Jackson Bartlett</td>\n",
       "      <td>M</td>\n",
       "      <td>10</td>\n",
       "      <td>Foot bitten</td>\n",
       "      <td>N</td>\n",
       "      <td>11h00</td>\n",
       "      <td>Bronze whaler shark, 2 m</td>\n",
       "      <td>B. Myatt, GSAF</td>\n",
       "    </tr>\n",
       "    <tr>\n",
       "      <th>25</th>\n",
       "      <td>2021.07.11.R</td>\n",
       "      <td>Reported 11-Jul-2021</td>\n",
       "      <td>2021.0</td>\n",
       "      <td>Provoked</td>\n",
       "      <td>BAHAMAS</td>\n",
       "      <td>NaN</td>\n",
       "      <td>NaN</td>\n",
       "      <td>Jackass Team's publicity stunt for Discovery C...</td>\n",
       "      <td>Sean McInerney</td>\n",
       "      <td>M</td>\n",
       "      <td>NaN</td>\n",
       "      <td>Lacerations to right hand  PROVOKED INCIDENT</td>\n",
       "      <td>N</td>\n",
       "      <td>NaN</td>\n",
       "      <td>NaN</td>\n",
       "      <td>Yahoo.com, 7/11/2021</td>\n",
       "    </tr>\n",
       "  </tbody>\n",
       "</table>\n",
       "</div>"
      ],
      "text/plain": [
       "     Case Number                  Date    Year        Type    Country  \\\n",
       "1     2021.09.09           09-Sep-2021  2021.0  Unprovoked        USA   \n",
       "2     2021.09.05           05-Sep-2021  2021.0  Unprovoked  AUSTRALIA   \n",
       "13    2021.07.30           30-Jul-2021  2021.0    Provoked        USA   \n",
       "44    2021.06.11           11-Jun-2021  2021.0  Unprovoked  AUSTRALIA   \n",
       "25  2021.07.11.R  Reported 11-Jul-2021  2021.0    Provoked    BAHAMAS   \n",
       "\n",
       "                 Area                     Location  \\\n",
       "1             Florida  Ponce Inlet, Volusia County   \n",
       "2     New South Wales                Emerald Beach   \n",
       "13            Florida  Ponce Inlet, Volusia County   \n",
       "44  Western Australia            Five Fingers Reef   \n",
       "25                NaN                          NaN   \n",
       "\n",
       "                                             Activity              Name Sex   \\\n",
       "1                                             Surfing     Doyle Neilsen    M   \n",
       "2                                             Surfing  Timothy Thompson    M   \n",
       "13                                            Fishing              male    M   \n",
       "44                                         Snorkeling  Jackson Bartlett    M   \n",
       "25  Jackass Team's publicity stunt for Discovery C...    Sean McInerney    M   \n",
       "\n",
       "    Age                                             Injury Fatal (Y/N)   Time  \\\n",
       "1    !6                          Minor injury to right arm           N  13h20   \n",
       "2    31                                              FATAL           Y  10h30   \n",
       "13   47  Hands bitten while attempting to unhook shark ...           N  11h00   \n",
       "44   10                                        Foot bitten           N  11h00   \n",
       "25  NaN       Lacerations to right hand  PROVOKED INCIDENT           N    NaN   \n",
       "\n",
       "                    Species                  Investigator or Source  \n",
       "1                        NaN  Daytona Beach News-Journal, 9/14/2021  \n",
       "2                White xhark                         B. Myatt, GSAF  \n",
       "13                       NaN                      J. Marchand, GSAF  \n",
       "44  Bronze whaler shark, 2 m                         B. Myatt, GSAF  \n",
       "25                       NaN                   Yahoo.com, 7/11/2021  "
      ]
     },
     "execution_count": 30,
     "metadata": {},
     "output_type": "execute_result"
    }
   ],
   "source": [
    "shark_df.loc[[1, 2, 13, 44, 25]] #select multiple rows using a sequence of numbers"
   ]
  },
  {
   "cell_type": "markdown",
   "metadata": {},
   "source": [
    "The result above returned the required rows and all columns. However, if we wanted to narrow the result we would need to specify the required columns. For example:"
   ]
  },
  {
   "cell_type": "code",
   "execution_count": 31,
   "metadata": {},
   "outputs": [
    {
     "data": {
      "text/html": [
       "<div>\n",
       "<style scoped>\n",
       "    .dataframe tbody tr th:only-of-type {\n",
       "        vertical-align: middle;\n",
       "    }\n",
       "\n",
       "    .dataframe tbody tr th {\n",
       "        vertical-align: top;\n",
       "    }\n",
       "\n",
       "    .dataframe thead th {\n",
       "        text-align: right;\n",
       "    }\n",
       "</style>\n",
       "<table border=\"1\" class=\"dataframe\">\n",
       "  <thead>\n",
       "    <tr style=\"text-align: right;\">\n",
       "      <th></th>\n",
       "      <th>Country</th>\n",
       "      <th>Name</th>\n",
       "      <th>Age</th>\n",
       "      <th>Injury</th>\n",
       "    </tr>\n",
       "  </thead>\n",
       "  <tbody>\n",
       "    <tr>\n",
       "      <th>1</th>\n",
       "      <td>USA</td>\n",
       "      <td>Doyle Neilsen</td>\n",
       "      <td>!6</td>\n",
       "      <td>Minor injury to right arm</td>\n",
       "    </tr>\n",
       "    <tr>\n",
       "      <th>2</th>\n",
       "      <td>AUSTRALIA</td>\n",
       "      <td>Timothy Thompson</td>\n",
       "      <td>31</td>\n",
       "      <td>FATAL</td>\n",
       "    </tr>\n",
       "    <tr>\n",
       "      <th>13</th>\n",
       "      <td>USA</td>\n",
       "      <td>male</td>\n",
       "      <td>47</td>\n",
       "      <td>Hands bitten while attempting to unhook shark ...</td>\n",
       "    </tr>\n",
       "    <tr>\n",
       "      <th>44</th>\n",
       "      <td>AUSTRALIA</td>\n",
       "      <td>Jackson Bartlett</td>\n",
       "      <td>10</td>\n",
       "      <td>Foot bitten</td>\n",
       "    </tr>\n",
       "    <tr>\n",
       "      <th>25</th>\n",
       "      <td>BAHAMAS</td>\n",
       "      <td>Sean McInerney</td>\n",
       "      <td>NaN</td>\n",
       "      <td>Lacerations to right hand  PROVOKED INCIDENT</td>\n",
       "    </tr>\n",
       "  </tbody>\n",
       "</table>\n",
       "</div>"
      ],
      "text/plain": [
       "      Country              Name  Age  \\\n",
       "1         USA     Doyle Neilsen   !6   \n",
       "2   AUSTRALIA  Timothy Thompson   31   \n",
       "13        USA              male   47   \n",
       "44  AUSTRALIA  Jackson Bartlett   10   \n",
       "25    BAHAMAS    Sean McInerney  NaN   \n",
       "\n",
       "                                               Injury  \n",
       "1                           Minor injury to right arm  \n",
       "2                                               FATAL  \n",
       "13  Hands bitten while attempting to unhook shark ...  \n",
       "44                                        Foot bitten  \n",
       "25       Lacerations to right hand  PROVOKED INCIDENT  "
      ]
     },
     "execution_count": 31,
     "metadata": {},
     "output_type": "execute_result"
    }
   ],
   "source": [
    "#return specific rows and columns\n",
    "shark_df.loc[[1, 2, 13, 44, 25], ['Country', 'Name', 'Age', 'Injury']] \n"
   ]
  },
  {
   "cell_type": "markdown",
   "metadata": {},
   "source": [
    "Now we can clearly see the name of the person who was involved in the shark attack, their age, the type of injury and the country where the attack occurred."
   ]
  },
  {
   "cell_type": "code",
   "execution_count": 32,
   "metadata": {},
   "outputs": [
    {
     "data": {
      "text/html": [
       "<div>\n",
       "<style scoped>\n",
       "    .dataframe tbody tr th:only-of-type {\n",
       "        vertical-align: middle;\n",
       "    }\n",
       "\n",
       "    .dataframe tbody tr th {\n",
       "        vertical-align: top;\n",
       "    }\n",
       "\n",
       "    .dataframe thead th {\n",
       "        text-align: right;\n",
       "    }\n",
       "</style>\n",
       "<table border=\"1\" class=\"dataframe\">\n",
       "  <thead>\n",
       "    <tr style=\"text-align: right;\">\n",
       "      <th></th>\n",
       "      <th>Country</th>\n",
       "      <th>Name</th>\n",
       "      <th>Age</th>\n",
       "      <th>Injury</th>\n",
       "    </tr>\n",
       "  </thead>\n",
       "  <tbody>\n",
       "    <tr>\n",
       "      <th>0</th>\n",
       "      <td>EGYPT</td>\n",
       "      <td>Mohamed</td>\n",
       "      <td>NaN</td>\n",
       "      <td>Laceration to arm caused by metal object</td>\n",
       "    </tr>\n",
       "    <tr>\n",
       "      <th>1</th>\n",
       "      <td>USA</td>\n",
       "      <td>Doyle Neilsen</td>\n",
       "      <td>!6</td>\n",
       "      <td>Minor injury to right arm</td>\n",
       "    </tr>\n",
       "    <tr>\n",
       "      <th>2</th>\n",
       "      <td>AUSTRALIA</td>\n",
       "      <td>Timothy Thompson</td>\n",
       "      <td>31</td>\n",
       "      <td>FATAL</td>\n",
       "    </tr>\n",
       "    <tr>\n",
       "      <th>3</th>\n",
       "      <td>British Overseas Territory</td>\n",
       "      <td>male</td>\n",
       "      <td>NaN</td>\n",
       "      <td>Wrist bitten</td>\n",
       "    </tr>\n",
       "    <tr>\n",
       "      <th>4</th>\n",
       "      <td>USA</td>\n",
       "      <td>male</td>\n",
       "      <td>!!</td>\n",
       "      <td>Lacerations both sides of lower leg immediatel...</td>\n",
       "    </tr>\n",
       "    <tr>\n",
       "      <th>...</th>\n",
       "      <td>...</td>\n",
       "      <td>...</td>\n",
       "      <td>...</td>\n",
       "      <td>...</td>\n",
       "    </tr>\n",
       "    <tr>\n",
       "      <th>6695</th>\n",
       "      <td>AUSTRALIA</td>\n",
       "      <td>male</td>\n",
       "      <td>NaN</td>\n",
       "      <td>FATAL</td>\n",
       "    </tr>\n",
       "    <tr>\n",
       "      <th>6696</th>\n",
       "      <td>AUSTRALIA</td>\n",
       "      <td>Ahmun</td>\n",
       "      <td>NaN</td>\n",
       "      <td>FATAL</td>\n",
       "    </tr>\n",
       "    <tr>\n",
       "      <th>6697</th>\n",
       "      <td>USA</td>\n",
       "      <td>Coast Guard personnel</td>\n",
       "      <td>NaN</td>\n",
       "      <td>FATAL</td>\n",
       "    </tr>\n",
       "    <tr>\n",
       "      <th>6698</th>\n",
       "      <td>PANAMA</td>\n",
       "      <td>Jules Patterson</td>\n",
       "      <td>NaN</td>\n",
       "      <td>FATAL</td>\n",
       "    </tr>\n",
       "    <tr>\n",
       "      <th>6699</th>\n",
       "      <td>CEYLON (SRI LANKA)</td>\n",
       "      <td>male</td>\n",
       "      <td>15</td>\n",
       "      <td>FATAL. \"Shark bit him in half, carrying away t...</td>\n",
       "    </tr>\n",
       "  </tbody>\n",
       "</table>\n",
       "<p>6700 rows × 4 columns</p>\n",
       "</div>"
      ],
      "text/plain": [
       "                         Country                   Name  Age  \\\n",
       "0                          EGYPT                Mohamed  NaN   \n",
       "1                            USA          Doyle Neilsen   !6   \n",
       "2                      AUSTRALIA       Timothy Thompson   31   \n",
       "3     British Overseas Territory                   male  NaN   \n",
       "4                            USA                   male   !!   \n",
       "...                          ...                    ...  ...   \n",
       "6695                   AUSTRALIA                   male  NaN   \n",
       "6696                   AUSTRALIA                  Ahmun  NaN   \n",
       "6697                         USA  Coast Guard personnel  NaN   \n",
       "6698                      PANAMA        Jules Patterson  NaN   \n",
       "6699          CEYLON (SRI LANKA)                   male   15   \n",
       "\n",
       "                                                 Injury  \n",
       "0              Laceration to arm caused by metal object  \n",
       "1                             Minor injury to right arm  \n",
       "2                                                 FATAL  \n",
       "3                                          Wrist bitten  \n",
       "4     Lacerations both sides of lower leg immediatel...  \n",
       "...                                                 ...  \n",
       "6695                                              FATAL  \n",
       "6696                                              FATAL  \n",
       "6697                                              FATAL  \n",
       "6698                                              FATAL  \n",
       "6699  FATAL. \"Shark bit him in half, carrying away t...  \n",
       "\n",
       "[6700 rows x 4 columns]"
      ]
     },
     "execution_count": 32,
     "metadata": {},
     "output_type": "execute_result"
    }
   ],
   "source": [
    "#return all rows and specific columns\n",
    "shark_df.loc[:, ['Country', 'Name', 'Age', 'Injury']] #select multiple rows using a sequence of numbers\n"
   ]
  },
  {
   "cell_type": "markdown",
   "metadata": {},
   "source": [
    "This is the same approach that we took when subsetting numpy arrays, so the logic also holds for pandas dataframes. \n",
    "\n",
    "`PRACTICE:` I would encourage you to experiment with this data and perform subsetting."
   ]
  },
  {
   "cell_type": "markdown",
   "metadata": {},
   "source": [
    "**lets extract the second observation, using the iloc method**\n",
    "We can perform all the steps above using the `iloc` method.  Instead of providing the data labels, you will provide the positional index. I'll demonstrate an example below, and leave the rest for you as a practice exercise."
   ]
  },
  {
   "cell_type": "code",
   "execution_count": 33,
   "metadata": {},
   "outputs": [
    {
     "data": {
      "text/html": [
       "<div>\n",
       "<style scoped>\n",
       "    .dataframe tbody tr th:only-of-type {\n",
       "        vertical-align: middle;\n",
       "    }\n",
       "\n",
       "    .dataframe tbody tr th {\n",
       "        vertical-align: top;\n",
       "    }\n",
       "\n",
       "    .dataframe thead th {\n",
       "        text-align: right;\n",
       "    }\n",
       "</style>\n",
       "<table border=\"1\" class=\"dataframe\">\n",
       "  <thead>\n",
       "    <tr style=\"text-align: right;\">\n",
       "      <th></th>\n",
       "      <th>Area</th>\n",
       "      <th>Location</th>\n",
       "      <th>Activity</th>\n",
       "      <th>Name</th>\n",
       "      <th>Sex</th>\n",
       "    </tr>\n",
       "  </thead>\n",
       "  <tbody>\n",
       "    <tr>\n",
       "      <th>10</th>\n",
       "      <td>Florida</td>\n",
       "      <td>Key Largo, Monroe County</td>\n",
       "      <td>Snorkeling</td>\n",
       "      <td>Lucas Cruz</td>\n",
       "      <td>M</td>\n",
       "    </tr>\n",
       "    <tr>\n",
       "      <th>11</th>\n",
       "      <td>South Carolina</td>\n",
       "      <td>Hilton Head Island, Beaufort County</td>\n",
       "      <td>NaN</td>\n",
       "      <td>a lifguard</td>\n",
       "      <td>M</td>\n",
       "    </tr>\n",
       "    <tr>\n",
       "      <th>12</th>\n",
       "      <td>Maryland</td>\n",
       "      <td>Ocean City, Worcester County</td>\n",
       "      <td>Swimming</td>\n",
       "      <td>Jordan Prushinski</td>\n",
       "      <td>F</td>\n",
       "    </tr>\n",
       "    <tr>\n",
       "      <th>13</th>\n",
       "      <td>Florida</td>\n",
       "      <td>Ponce Inlet, Volusia County</td>\n",
       "      <td>Fishing</td>\n",
       "      <td>male</td>\n",
       "      <td>M</td>\n",
       "    </tr>\n",
       "    <tr>\n",
       "      <th>14</th>\n",
       "      <td>North Carolina</td>\n",
       "      <td>Wrightsville Beach</td>\n",
       "      <td>Standing</td>\n",
       "      <td>Arik Nekrazov</td>\n",
       "      <td>M</td>\n",
       "    </tr>\n",
       "    <tr>\n",
       "      <th>15</th>\n",
       "      <td>Georgia</td>\n",
       "      <td>Tybee Island, Chatham County</td>\n",
       "      <td>Surfing</td>\n",
       "      <td>Yamada Atsushi</td>\n",
       "      <td>M</td>\n",
       "    </tr>\n",
       "    <tr>\n",
       "      <th>16</th>\n",
       "      <td>Western Australia</td>\n",
       "      <td>Varanus Island</td>\n",
       "      <td>Fishing</td>\n",
       "      <td>male</td>\n",
       "      <td>M</td>\n",
       "    </tr>\n",
       "    <tr>\n",
       "      <th>17</th>\n",
       "      <td>New York</td>\n",
       "      <td>Jones Beach, Nassau County</td>\n",
       "      <td>Swimming</td>\n",
       "      <td>male</td>\n",
       "      <td>M</td>\n",
       "    </tr>\n",
       "    <tr>\n",
       "      <th>18</th>\n",
       "      <td>Pernambuco</td>\n",
       "      <td>Piedade</td>\n",
       "      <td>Squatting in the water</td>\n",
       "      <td>Everton dos Reis Guimarães</td>\n",
       "      <td>M</td>\n",
       "    </tr>\n",
       "    <tr>\n",
       "      <th>19</th>\n",
       "      <td>Chanthaburi Province</td>\n",
       "      <td>Kung Krabaenbay Royal Département Study Center</td>\n",
       "      <td>Moving captive shark</td>\n",
       "      <td>Boonterm Singhasura</td>\n",
       "      <td>M</td>\n",
       "    </tr>\n",
       "    <tr>\n",
       "      <th>20</th>\n",
       "      <td>California</td>\n",
       "      <td>Capitola Beach, Santa Cruz County</td>\n",
       "      <td>Surfing</td>\n",
       "      <td>Jennifer Romney</td>\n",
       "      <td>F</td>\n",
       "    </tr>\n",
       "    <tr>\n",
       "      <th>21</th>\n",
       "      <td>Florida</td>\n",
       "      <td>Near Patrick AFB, Brevard County</td>\n",
       "      <td>NaN</td>\n",
       "      <td>Katie Wood</td>\n",
       "      <td>F</td>\n",
       "    </tr>\n",
       "    <tr>\n",
       "      <th>22</th>\n",
       "      <td>Western Australia</td>\n",
       "      <td>Rottnest Island</td>\n",
       "      <td>Surfing</td>\n",
       "      <td>male</td>\n",
       "      <td>M</td>\n",
       "    </tr>\n",
       "    <tr>\n",
       "      <th>23</th>\n",
       "      <td>Florida</td>\n",
       "      <td>New Smyrna Beach, Volusia County</td>\n",
       "      <td>Boogie boarding</td>\n",
       "      <td>male</td>\n",
       "      <td>M</td>\n",
       "    </tr>\n",
       "    <tr>\n",
       "      <th>24</th>\n",
       "      <td>Eastern Cape Province</td>\n",
       "      <td>Jeffrey's Bay</td>\n",
       "      <td>Surfing</td>\n",
       "      <td>Jason Lemmer</td>\n",
       "      <td>M</td>\n",
       "    </tr>\n",
       "  </tbody>\n",
       "</table>\n",
       "</div>"
      ],
      "text/plain": [
       "                     Area                                         Location  \\\n",
       "10                Florida                         Key Largo, Monroe County   \n",
       "11         South Carolina              Hilton Head Island, Beaufort County   \n",
       "12               Maryland                     Ocean City, Worcester County   \n",
       "13                Florida                      Ponce Inlet, Volusia County   \n",
       "14         North Carolina                               Wrightsville Beach   \n",
       "15                Georgia                     Tybee Island, Chatham County   \n",
       "16      Western Australia                                   Varanus Island   \n",
       "17               New York                       Jones Beach, Nassau County   \n",
       "18             Pernambuco                                          Piedade   \n",
       "19   Chanthaburi Province  Kung Krabaenbay Royal Département Study Center    \n",
       "20             California                Capitola Beach, Santa Cruz County   \n",
       "21                Florida                 Near Patrick AFB, Brevard County   \n",
       "22      Western Australia                                  Rottnest Island   \n",
       "23                Florida                 New Smyrna Beach, Volusia County   \n",
       "24  Eastern Cape Province                                    Jeffrey's Bay   \n",
       "\n",
       "                  Activity                         Name Sex   \n",
       "10              Snorkeling                   Lucas Cruz    M  \n",
       "11                     NaN                   a lifguard    M  \n",
       "12                Swimming            Jordan Prushinski    F  \n",
       "13                 Fishing                         male    M  \n",
       "14                Standing                Arik Nekrazov    M  \n",
       "15                 Surfing              Yamada Atsushi     M  \n",
       "16                 Fishing                         male    M  \n",
       "17                Swimming                         male    M  \n",
       "18  Squatting in the water  Everton dos Reis Guimarães     M  \n",
       "19    Moving captive shark          Boonterm Singhasura    M  \n",
       "20                 Surfing              Jennifer Romney    F  \n",
       "21                     NaN                   Katie Wood    F  \n",
       "22                 Surfing                         male    M  \n",
       "23         Boogie boarding                         male    M  \n",
       "24                 Surfing                 Jason Lemmer    M  "
      ]
     },
     "execution_count": 33,
     "metadata": {},
     "output_type": "execute_result"
    }
   ],
   "source": [
    "shark_df.iloc[10:25, 5:10] #select multiple rows using a start and end index (i.e. a slice)"
   ]
  },
  {
   "cell_type": "code",
   "execution_count": null,
   "metadata": {},
   "outputs": [],
   "source": []
  },
  {
   "cell_type": "markdown",
   "metadata": {},
   "source": [
    "NOTE: If at any point you need to convert the data into a numpy array, you can use the `.values` method to convert the results to numpy array (if necessary)."
   ]
  },
  {
   "cell_type": "code",
   "execution_count": null,
   "metadata": {},
   "outputs": [],
   "source": []
  },
  {
   "cell_type": "markdown",
   "metadata": {},
   "source": [
    "## 4. Loading Excel files\n",
    "The example below demonstrate how to read excel files using `read_excel()`. If the excel file had multiple sheets we could indicate which sheet to read. You can learn more about `read_excel()` from the [documentation](https://pandas.pydata.org/pandas-docs/stable/reference/api/pandas.read_excel.html)"
   ]
  },
  {
   "cell_type": "code",
   "execution_count": 34,
   "metadata": {},
   "outputs": [
    {
     "data": {
      "text/html": [
       "<div>\n",
       "<style scoped>\n",
       "    .dataframe tbody tr th:only-of-type {\n",
       "        vertical-align: middle;\n",
       "    }\n",
       "\n",
       "    .dataframe tbody tr th {\n",
       "        vertical-align: top;\n",
       "    }\n",
       "\n",
       "    .dataframe thead th {\n",
       "        text-align: right;\n",
       "    }\n",
       "</style>\n",
       "<table border=\"1\" class=\"dataframe\">\n",
       "  <thead>\n",
       "    <tr style=\"text-align: right;\">\n",
       "      <th></th>\n",
       "      <th>Case Number</th>\n",
       "      <th>Date</th>\n",
       "      <th>Year</th>\n",
       "      <th>Type</th>\n",
       "      <th>Country</th>\n",
       "      <th>Area</th>\n",
       "      <th>Location</th>\n",
       "      <th>Activity</th>\n",
       "      <th>Name</th>\n",
       "      <th>Sex</th>\n",
       "      <th>...</th>\n",
       "      <th>Species</th>\n",
       "      <th>Investigator or Source</th>\n",
       "      <th>pdf</th>\n",
       "      <th>href formula</th>\n",
       "      <th>href</th>\n",
       "      <th>Case Number.1</th>\n",
       "      <th>Case Number.2</th>\n",
       "      <th>original order</th>\n",
       "      <th>Unnamed: 22</th>\n",
       "      <th>Unnamed: 23</th>\n",
       "    </tr>\n",
       "  </thead>\n",
       "  <tbody>\n",
       "    <tr>\n",
       "      <th>0</th>\n",
       "      <td>2021.09.10</td>\n",
       "      <td>10-Sep-2021</td>\n",
       "      <td>2021.0</td>\n",
       "      <td>NaN</td>\n",
       "      <td>EGYPT</td>\n",
       "      <td>NaN</td>\n",
       "      <td>Sidi Abdel Rahmen</td>\n",
       "      <td>Swimming</td>\n",
       "      <td>Mohamed</td>\n",
       "      <td>M</td>\n",
       "      <td>...</td>\n",
       "      <td>No shark invovlement</td>\n",
       "      <td>Dr. M. Fouda &amp; M. Salrm</td>\n",
       "      <td>2021.09.10-Mohamed.pdf</td>\n",
       "      <td>http://sharkattackfile.net/spreadsheets/pdf_di...</td>\n",
       "      <td>http://sharkattackfile.net/spreadsheets/pdf_di...</td>\n",
       "      <td>2021.09.10</td>\n",
       "      <td>2021.09.10</td>\n",
       "      <td>6700.0</td>\n",
       "      <td>NaN</td>\n",
       "      <td>NaN</td>\n",
       "    </tr>\n",
       "    <tr>\n",
       "      <th>1</th>\n",
       "      <td>2021.09.09</td>\n",
       "      <td>09-Sep-2021</td>\n",
       "      <td>2021.0</td>\n",
       "      <td>Unprovoked</td>\n",
       "      <td>USA</td>\n",
       "      <td>Florida</td>\n",
       "      <td>Ponce Inlet, Volusia County</td>\n",
       "      <td>Surfing</td>\n",
       "      <td>Doyle Neilsen</td>\n",
       "      <td>M</td>\n",
       "      <td>...</td>\n",
       "      <td>NaN</td>\n",
       "      <td>Daytona Beach News-Journal, 9/14/2021</td>\n",
       "      <td>2021.09.09-Neilsen.pdf</td>\n",
       "      <td>http://sharkattackfile.net/spreadsheets/pdf_di...</td>\n",
       "      <td>http://sharkattackfile.net/spreadsheets/pdf_di...</td>\n",
       "      <td>2021.09.09</td>\n",
       "      <td>2021.09.09</td>\n",
       "      <td>6699.0</td>\n",
       "      <td>NaN</td>\n",
       "      <td>NaN</td>\n",
       "    </tr>\n",
       "    <tr>\n",
       "      <th>2</th>\n",
       "      <td>2021.09.05</td>\n",
       "      <td>05-Sep-2021</td>\n",
       "      <td>2021.0</td>\n",
       "      <td>Unprovoked</td>\n",
       "      <td>AUSTRALIA</td>\n",
       "      <td>New South Wales</td>\n",
       "      <td>Emerald Beach</td>\n",
       "      <td>Surfing</td>\n",
       "      <td>Timothy Thompson</td>\n",
       "      <td>M</td>\n",
       "      <td>...</td>\n",
       "      <td>White xhark</td>\n",
       "      <td>B. Myatt, GSAF</td>\n",
       "      <td>2021.09.05-Thompson.pdf</td>\n",
       "      <td>http://sharkattackfile.net/spreadsheets/pdf_di...</td>\n",
       "      <td>http://sharkattackfile.net/spreadsheets/pdf_di...</td>\n",
       "      <td>2021.09.05</td>\n",
       "      <td>2021.09.05</td>\n",
       "      <td>6698.0</td>\n",
       "      <td>NaN</td>\n",
       "      <td>NaN</td>\n",
       "    </tr>\n",
       "    <tr>\n",
       "      <th>3</th>\n",
       "      <td>2021.09.03.b</td>\n",
       "      <td>03-Sep-2021</td>\n",
       "      <td>2021.0</td>\n",
       "      <td>Unprovoked</td>\n",
       "      <td>British Overseas Territory</td>\n",
       "      <td>Turks and Caicos</td>\n",
       "      <td>NaN</td>\n",
       "      <td>NaN</td>\n",
       "      <td>male</td>\n",
       "      <td>M</td>\n",
       "      <td>...</td>\n",
       "      <td>NaN</td>\n",
       "      <td>Anonymous</td>\n",
       "      <td>2021.09.03.b-TurksCaicos.pdf</td>\n",
       "      <td>http://sharkattackfile.net/spreadsheets/pdf_di...</td>\n",
       "      <td>http://sharkattackfile.net/spreadsheets/pdf_di...</td>\n",
       "      <td>2021.09.03.b</td>\n",
       "      <td>2021.09.03.b</td>\n",
       "      <td>6697.0</td>\n",
       "      <td>NaN</td>\n",
       "      <td>NaN</td>\n",
       "    </tr>\n",
       "    <tr>\n",
       "      <th>4</th>\n",
       "      <td>2021.08.28</td>\n",
       "      <td>28-Aug-2021</td>\n",
       "      <td>2021.0</td>\n",
       "      <td>Unprovoked</td>\n",
       "      <td>USA</td>\n",
       "      <td>Texas</td>\n",
       "      <td>Galveston Island, Galveston County</td>\n",
       "      <td>Boogie boarding</td>\n",
       "      <td>male</td>\n",
       "      <td>M</td>\n",
       "      <td>...</td>\n",
       "      <td>NaN</td>\n",
       "      <td>T. Craig, GSAF  &amp; K. McMurray, TrackingShark.com</td>\n",
       "      <td>2021.08.28.-Galveston.pdf</td>\n",
       "      <td>http://sharkattackfile.net/spreadsheets/pdf_di...</td>\n",
       "      <td>http://sharkattackfile.net/spreadsheets/pdf_di...</td>\n",
       "      <td>2021.08.28</td>\n",
       "      <td>2021.08.28</td>\n",
       "      <td>6696.0</td>\n",
       "      <td>NaN</td>\n",
       "      <td>NaN</td>\n",
       "    </tr>\n",
       "  </tbody>\n",
       "</table>\n",
       "<p>5 rows × 24 columns</p>\n",
       "</div>"
      ],
      "text/plain": [
       "    Case Number         Date    Year        Type                     Country  \\\n",
       "0    2021.09.10  10-Sep-2021  2021.0         NaN                       EGYPT   \n",
       "1    2021.09.09  09-Sep-2021  2021.0  Unprovoked                         USA   \n",
       "2    2021.09.05  05-Sep-2021  2021.0  Unprovoked                   AUSTRALIA   \n",
       "3  2021.09.03.b  03-Sep-2021  2021.0  Unprovoked  British Overseas Territory   \n",
       "4    2021.08.28  28-Aug-2021  2021.0  Unprovoked                         USA   \n",
       "\n",
       "               Area                            Location         Activity  \\\n",
       "0               NaN                  Sidi Abdel Rahmen          Swimming   \n",
       "1           Florida         Ponce Inlet, Volusia County          Surfing   \n",
       "2   New South Wales                       Emerald Beach          Surfing   \n",
       "3  Turks and Caicos                                 NaN              NaN   \n",
       "4             Texas  Galveston Island, Galveston County  Boogie boarding   \n",
       "\n",
       "               Name Sex   ...               Species   \\\n",
       "0           Mohamed    M  ...  No shark invovlement    \n",
       "1     Doyle Neilsen    M  ...                    NaN   \n",
       "2  Timothy Thompson    M  ...            White xhark   \n",
       "3              male    M  ...                    NaN   \n",
       "4              male    M  ...                    NaN   \n",
       "\n",
       "                             Investigator or Source  \\\n",
       "0                           Dr. M. Fouda & M. Salrm   \n",
       "1             Daytona Beach News-Journal, 9/14/2021   \n",
       "2                                    B. Myatt, GSAF   \n",
       "3                                         Anonymous   \n",
       "4  T. Craig, GSAF  & K. McMurray, TrackingShark.com   \n",
       "\n",
       "                            pdf  \\\n",
       "0        2021.09.10-Mohamed.pdf   \n",
       "1        2021.09.09-Neilsen.pdf   \n",
       "2       2021.09.05-Thompson.pdf   \n",
       "3  2021.09.03.b-TurksCaicos.pdf   \n",
       "4     2021.08.28.-Galveston.pdf   \n",
       "\n",
       "                                        href formula  \\\n",
       "0  http://sharkattackfile.net/spreadsheets/pdf_di...   \n",
       "1  http://sharkattackfile.net/spreadsheets/pdf_di...   \n",
       "2  http://sharkattackfile.net/spreadsheets/pdf_di...   \n",
       "3  http://sharkattackfile.net/spreadsheets/pdf_di...   \n",
       "4  http://sharkattackfile.net/spreadsheets/pdf_di...   \n",
       "\n",
       "                                                href Case Number.1  \\\n",
       "0  http://sharkattackfile.net/spreadsheets/pdf_di...    2021.09.10   \n",
       "1  http://sharkattackfile.net/spreadsheets/pdf_di...    2021.09.09   \n",
       "2  http://sharkattackfile.net/spreadsheets/pdf_di...    2021.09.05   \n",
       "3  http://sharkattackfile.net/spreadsheets/pdf_di...  2021.09.03.b   \n",
       "4  http://sharkattackfile.net/spreadsheets/pdf_di...    2021.08.28   \n",
       "\n",
       "  Case Number.2 original order Unnamed: 22 Unnamed: 23  \n",
       "0    2021.09.10         6700.0         NaN         NaN  \n",
       "1    2021.09.09         6699.0         NaN         NaN  \n",
       "2    2021.09.05         6698.0         NaN         NaN  \n",
       "3  2021.09.03.b         6697.0         NaN         NaN  \n",
       "4    2021.08.28         6696.0         NaN         NaN  \n",
       "\n",
       "[5 rows x 24 columns]"
      ]
     },
     "execution_count": 34,
     "metadata": {},
     "output_type": "execute_result"
    }
   ],
   "source": [
    "shark_df_2 = pd.read_excel('GSAF5.xls')\n",
    "shark_df_2.head()"
   ]
  },
  {
   "cell_type": "code",
   "execution_count": null,
   "metadata": {},
   "outputs": [],
   "source": []
  },
  {
   "cell_type": "markdown",
   "metadata": {},
   "source": [
    "## 5. DataFrame Methods\n",
    "Pandas provides basic numerical functions that can be used to calculate descriptive statistics on each variable. Similar to series, we can obtain the `min()`, `max()`, `mean()`, `sum()`, `describe()` etc. For more information on these useful function, view the documentation [at the following link](https://pandas.pydata.org/pandas-docs/version/0.20.2/api.html#api-dataframe-stats)."
   ]
  },
  {
   "cell_type": "code",
   "execution_count": null,
   "metadata": {},
   "outputs": [],
   "source": []
  }
 ],
 "metadata": {
  "kernelspec": {
   "display_name": "Python 3 (ipykernel)",
   "language": "python",
   "name": "python3"
  },
  "language_info": {
   "codemirror_mode": {
    "name": "ipython",
    "version": 3
   },
   "file_extension": ".py",
   "mimetype": "text/x-python",
   "name": "python",
   "nbconvert_exporter": "python",
   "pygments_lexer": "ipython3",
   "version": "3.9.18"
  }
 },
 "nbformat": 4,
 "nbformat_minor": 4
}
